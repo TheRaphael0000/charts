{
 "cells": [
  {
   "cell_type": "code",
   "execution_count": null,
   "id": "0078a910",
   "metadata": {},
   "outputs": [],
   "source": [
    "import pandas as pd\n",
    "from collections import defaultdict\n",
    "from datetime import date\n",
    "import numpy as np\n",
    "import matplotlib.pyplot as plt"
   ]
  },
  {
   "cell_type": "code",
   "execution_count": null,
   "id": "5ffec583",
   "metadata": {},
   "outputs": [],
   "source": [
    "df = pd.read_csv(\"data.csv\", sep='\\t')\n",
    "df = df.sort_values(\"Date\")\n",
    "\n",
    "cumulative_counts = defaultdict(lambda: {\"M\": 0, \"F\": 0})\n",
    "current_count = defaultdict(lambda: 0)\n",
    "\n",
    "print(df)\n",
    "for g, d in zip(df[\"Gender\"], df[\"Date\"]):\n",
    "    current_count[g] += 1\n",
    "    cumulative_counts[d] = dict(current_count)\n",
    "    # print(g, d, cumulative_counts)\n",
    "print(dict(cumulative_counts))\n",
    "\n",
    "cumulative_counts = dict(cumulative_counts)"
   ]
  },
  {
   "cell_type": "code",
   "execution_count": null,
   "id": "c244eafe",
   "metadata": {},
   "outputs": [],
   "source": [
    "dates = list(cumulative_counts.keys())\n",
    "dates = [date.fromisoformat(d) for d in dates]\n",
    "F = [v[\"F\"] for k, v in cumulative_counts.items()]\n",
    "M = [v[\"M\"] for k, v in cumulative_counts.items()]\n",
    "print(dates)\n",
    "print(F)\n",
    "print(M)"
   ]
  },
  {
   "cell_type": "code",
   "execution_count": null,
   "id": "eb9f1071",
   "metadata": {},
   "outputs": [],
   "source": [
    "plt.figure(figsize=(6,5), dpi=200)\n",
    "# plt.xlim(date(2008,1,1), date(2026,1,1))\n",
    "plt.ylim(0, 110)\n",
    "plt.plot(dates, M, label=\"# male champions\", c='#0000ffac')\n",
    "plt.plot(dates, F, label=\"# female champions\", c='#ff00ffac')\n",
    "plt.legend()\n",
    "plt.xlabel(\"Years\")\n",
    "plt.title(\"Champions gender distribution on League of Legends\")\n",
    "plt.grid()\n",
    "plt.tight_layout()\n",
    "plt.savefig(\"count.jpeg\")"
   ]
  },
  {
   "cell_type": "code",
   "execution_count": null,
   "id": "e8b7850c",
   "metadata": {},
   "outputs": [],
   "source": [
    "total = np.array(M) + np.array(F)\n",
    "male_percent = np.array(M) / total\n",
    "female_percent = np.array(F) / total\n",
    "# print(male_percent)\n",
    "# print(female_percent)\n",
    "\n",
    "plt.figure(figsize=(6,5), dpi=200)\n",
    "plt.plot(dates, male_percent, label=\"% male champions\", c='#0000ffac')\n",
    "plt.plot(dates, female_percent, label=\"% female champions\", c=\"#ff00ffac\")\n",
    "plt.grid()\n",
    "plt.xlabel(\"Years\")\n",
    "plt.title(\"Champions gender distribution on League of Legends\")\n",
    "plt.yticks(np.arange(0, 1.1, 0.1))\n",
    "plt.legend()\n",
    "plt.tight_layout()\n",
    "plt.savefig(\"percent.jpeg\")"
   ]
  },
  {
   "cell_type": "code",
   "execution_count": null,
   "id": "d9fecdc9",
   "metadata": {},
   "outputs": [],
   "source": []
  }
 ],
 "metadata": {
  "kernelspec": {
   "display_name": "Python 3",
   "language": "python",
   "name": "python3"
  },
  "language_info": {
   "codemirror_mode": {
    "name": "ipython",
    "version": 3
   },
   "file_extension": ".py",
   "mimetype": "text/x-python",
   "name": "python",
   "nbconvert_exporter": "python",
   "pygments_lexer": "ipython3",
   "version": "3.10.6"
  }
 },
 "nbformat": 4,
 "nbformat_minor": 5
}
